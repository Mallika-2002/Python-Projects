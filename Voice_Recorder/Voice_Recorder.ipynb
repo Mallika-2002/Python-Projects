{
 "cells": [
  {
   "cell_type": "markdown",
   "id": "60d160fa-f275-4e0b-9d23-6a90294b1008",
   "metadata": {},
   "source": [
    "# Voice Recorder With Fixed Duration"
   ]
  },
  {
   "cell_type": "code",
   "execution_count": null,
   "id": "4f467983-f922-4d6c-81c3-189e764f030e",
   "metadata": {},
   "outputs": [
    {
     "name": "stdout",
     "output_type": "stream",
     "text": [
      "Recording Started\n"
     ]
    }
   ],
   "source": [
    "import sounddevice\n",
    "from scipy.io.wavfile import write\n",
    "\n",
    "def voice_recorder(seconds, file):  #pass seconds of recording, filename to save recording\n",
    "    print(\"Recording Started\")\n",
    "    record = sounddevice.rec(int(seconds*44100), samplerate = 44100, channels =2)\n",
    "    sounddevice.wait()    # Wait until recording is finished\n",
    "    write(file, 44100, record)    # Save as filename\n",
    "    print(\"Recording Finished.\")\n",
    "\n",
    "\n",
    "\n",
    "voice_recorder(10,\"1stRecord.wav\")  # Records for fixed duration - 10 seconds in file name : 1stRecord.wav"
   ]
  },
  {
   "cell_type": "markdown",
   "id": "facf899d-b355-4194-a4f2-3addfbf24e54",
   "metadata": {},
   "source": []
  },
  {
   "cell_type": "code",
   "execution_count": 19,
   "id": "a1d3d1e7-f48c-484e-b6f1-925a20704299",
   "metadata": {},
   "outputs": [],
   "source": []
  },
  {
   "cell_type": "code",
   "execution_count": null,
   "id": "0769297d-deac-43d1-a7f9-cdfa6f9cf8c6",
   "metadata": {},
   "outputs": [],
   "source": []
  },
  {
   "cell_type": "code",
   "execution_count": null,
   "id": "3f4f018b-60de-4761-aee4-40809b5f504c",
   "metadata": {},
   "outputs": [],
   "source": []
  }
 ],
 "metadata": {
  "kernelspec": {
   "display_name": "Python 3 (ipykernel)",
   "language": "python",
   "name": "python3"
  },
  "language_info": {
   "codemirror_mode": {
    "name": "ipython",
    "version": 3
   },
   "file_extension": ".py",
   "mimetype": "text/x-python",
   "name": "python",
   "nbconvert_exporter": "python",
   "pygments_lexer": "ipython3",
   "version": "3.12.4"
  }
 },
 "nbformat": 4,
 "nbformat_minor": 5
}
